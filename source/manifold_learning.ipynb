{
 "cells": [
  {
   "cell_type": "code",
   "execution_count": 49,
   "metadata": {},
   "outputs": [],
   "source": [
    "import torch\n",
    "from torch import nn\n",
    "from torch.autograd import Variable\n",
    "import torch.optim as optim\n",
    "from collections import OrderedDict\n",
    "from scipy.stats import ortho_group\n",
    "import matplotlib.pyplot as plt\n",
    "from matplotlib.animation import FuncAnimation\n",
    "import numpy as np\n",
    "import math\n",
    "from time import time\n",
    "%matplotlib inline"
   ]
  },
  {
   "cell_type": "markdown",
   "metadata": {},
   "source": [
    "### Setup"
   ]
  },
  {
   "cell_type": "code",
   "execution_count": 8,
   "metadata": {},
   "outputs": [
    {
     "name": "stdout",
     "output_type": "stream",
     "text": [
      "Device: cpu\n",
      "Data type: torch.float32\n"
     ]
    }
   ],
   "source": [
    "# use nvidia gpu if available\n",
    "if torch.cuda.is_available():\n",
    "    device = torch.device('cuda')\n",
    "else:\n",
    "    device = torch.device('cpu')\n",
    "    \n",
    "# only float32 tested\n",
    "dtype = torch.float32\n",
    "    \n",
    "print(\"Device:\", device)\n",
    "print(\"Data type:\", dtype)"
   ]
  },
  {
   "cell_type": "markdown",
   "metadata": {},
   "source": [
    "### Define Encoder/Decoder Logic"
   ]
  },
  {
   "cell_type": "code",
   "execution_count": 3,
   "metadata": {},
   "outputs": [],
   "source": [
    "class L2Norm(nn.Module):\n",
    "    \"\"\"L2Norm model class -- a layer class for normalizing a matrix of vectors\n",
    "    \n",
    "    Args:\n",
    "        dim (int) - which dimension to normalize along. 0 for column vectors, 1 for row vectors\n",
    "    \"\"\"\n",
    "    def __init__(self, dim=1):\n",
    "        super(L2Norm, self).__init__()\n",
    "        \n",
    "        self.dim=dim\n",
    "        \n",
    "    def forward(self,input):\n",
    "        return nn.functional.normalize(input, p=2, dim=self.dim)"
   ]
  },
  {
   "cell_type": "code",
   "execution_count": 4,
   "metadata": {},
   "outputs": [],
   "source": [
    "class Hamiltonian(nn.Module):\n",
    "    \"\"\"Hamiltonian -- a class used to help learn physically relevant sub-manifold\n",
    "    \n",
    "    Args:\n",
    "        H - the hamiltonian matrix in the original basis\n",
    "        N (int) - the size of the original basis\n",
    "        N_proj (int) - the size of the projected basis\n",
    "    \"\"\"\n",
    "    \n",
    "    def __init__(self, H, N, N_proj):\n",
    "\n",
    "        super(Hamiltonian, self).__init__()\n",
    "        \n",
    "        # initialize the class variables\n",
    "        self.H = H\n",
    "        self.N = N\n",
    "        self.N_proj = N_proj\n",
    "        self.eye = torch.eye(N_proj, device=device, dtype=dtype)\n",
    "        \n",
    "        # initialize the encoder and decoder architectures\n",
    "        self.decoder = nn.Sequential(OrderedDict([('matmul', nn.Linear(self.N_proj, self.N, bias=False)),\n",
    "                                                  ('normalize', L2Norm())\n",
    "                                                  ]))\n",
    "\n",
    "    # return the current cost matrix\n",
    "    def forward(self):\n",
    "        M = self.decoder(self.eye)\n",
    "        return M @ self.H @ M.t(), M @ M.t()"
   ]
  },
  {
   "cell_type": "code",
   "execution_count": 5,
   "metadata": {},
   "outputs": [],
   "source": [
    "class Cost():\n",
    "    \"\"\"Cost class -- used to calculate goodness of projection map for optimization purposes\n",
    "    \n",
    "    Args:\n",
    "        N_proj - number of basis states in the projected space\n",
    "        alpha (float) - the weight of the orthogonality cost relative to the energy cost (units of energy)\n",
    "    \"\"\"\n",
    "    \n",
    "    def __init__(self, N_proj, alpha):\n",
    "        super(Cost, self).__init__()\n",
    "        \n",
    "        self.N_proj = N_proj\n",
    "        self.eye = torch.eye(N_proj, device=device, dtype=dtype)\n",
    "        self.sorter = torch.tensor([[1/(i+1)/(j+1) for i in range(self.N_proj)] for j in range(self.N_proj)], device=device, dtype=dtype)\n",
    "        \n",
    "    def __call__(self, Hproj, Iproj):\n",
    "        cost_matrix = (Hproj*self.sorter)**2 + alpha * (Iproj - self.eye)**2\n",
    "        return cost_matrix.sum()/self.N_proj**2"
   ]
  },
  {
   "cell_type": "markdown",
   "metadata": {},
   "source": [
    "### Synthesize a reasonable test Hamiltonian"
   ]
  },
  {
   "cell_type": "code",
   "execution_count": 6,
   "metadata": {},
   "outputs": [],
   "source": [
    "def generate_H(N, N_proj):\n",
    "    eigs,_ = (torch.rand(N, device=device, dtype=dtype)*N).sort()\n",
    "    Hgen_proj = torch.diag(eigs)\n",
    "    Wgen = torch.tensor(ortho_group.rvs(N), device=device, dtype=dtype)\n",
    "    \n",
    "    Hgen = Wgen @ Hgen_proj @ Wgen.t()\n",
    "    \n",
    "    return Hgen, Wgen, eigs"
   ]
  },
  {
   "cell_type": "code",
   "execution_count": 7,
   "metadata": {},
   "outputs": [],
   "source": [
    "# Hamiltonian Setup\n",
    "N=500\n",
    "N_proj=30\n",
    "alpha=1"
   ]
  },
  {
   "cell_type": "code",
   "execution_count": 8,
   "metadata": {},
   "outputs": [
    {
     "name": "stdout",
     "output_type": "stream",
     "text": [
      "eigs: tensor([ 1.4541,  2.6655,  2.8721,  3.5421,  3.8253,  4.6797,  5.1546,  6.3272,\n",
      "         6.7771,  7.3475,  7.9243,  9.6975, 11.7525, 12.6057, 13.2221, 16.3810,\n",
      "        16.8727, 18.8439, 19.3214, 20.3303, 21.4008, 21.4098, 21.5786, 22.2389,\n",
      "        22.4583, 22.6910, 22.9431, 23.2577, 23.3700, 26.2989], device='cuda:0')\n"
     ]
    }
   ],
   "source": [
    "Hgen, Wgen, eigs = generate_H(N, N_proj)\n",
    "print (\"eigs:\", eigs[:N_proj])"
   ]
  },
  {
   "cell_type": "code",
   "execution_count": 9,
   "metadata": {},
   "outputs": [
    {
     "name": "stdout",
     "output_type": "stream",
     "text": [
      "CPU times: user 1.24 s, sys: 285 ms, total: 1.52 s\n",
      "Wall time: 543 ms\n"
     ]
    },
    {
     "data": {
      "text/plain": [
       "tensor([ 1.4541,  2.6655,  2.8721,  3.5420,  3.8253,  4.6797,  5.1546,  6.3271,\n",
       "         6.7771,  7.3478,  7.9242,  9.6974, 11.7524, 12.6057, 13.2221, 16.3809,\n",
       "        16.8726, 18.8438, 19.3213, 20.3303, 21.4008, 21.4098, 21.5785, 22.2390,\n",
       "        22.4583, 22.6910, 22.9430, 23.2577, 23.3699, 26.2989], device='cuda:0')"
      ]
     },
     "execution_count": 9,
     "metadata": {},
     "output_type": "execute_result"
    }
   ],
   "source": [
    "%time torch.symeig(Hgen, eigenvectors=True).eigenvalues[:N_proj]"
   ]
  },
  {
   "cell_type": "code",
   "execution_count": 10,
   "metadata": {},
   "outputs": [],
   "source": [
    "# the hamiltonian model\n",
    "model = Hamiltonian(Hgen, N, N_proj).to(device=device)"
   ]
  },
  {
   "cell_type": "code",
   "execution_count": 11,
   "metadata": {},
   "outputs": [],
   "source": [
    "# loss function and optimizer\n",
    "criterion = Cost(N_proj, alpha)\n",
    "optimizer = optim.Rprop(model.parameters(), lr=0.1)"
   ]
  },
  {
   "cell_type": "markdown",
   "metadata": {},
   "source": [
    "### Synthesize a physical Hamiltonian: two particles in a ring of length 1 (identical to a ring with a delta barrier)"
   ]
  },
  {
   "cell_type": "code",
   "execution_count": 92,
   "metadata": {},
   "outputs": [],
   "source": [
    "def physical_H(basis_size,g): # g for interaction strength, it is better if the basis_size is an odd number \n",
    "    H_data = g*np.ones((basis_size,basis_size)) # potential energy\n",
    "    H_diag=np.zeros(basis_size)\n",
    "    \n",
    "    for i in range(basis_size):\n",
    "        H_diag[i]= (2*math.pi*int(((i+1)/2)//1))**2 # kinetic energy E=k^2; k=2 Pi n, n=0,\\pm1 , \\pm 2,...\n",
    "    \n",
    "    H_phys =  torch.tensor(H_data+np.diag(H_diag),device=device, dtype=dtype)\n",
    "    \n",
    "    return H_phys\n"
   ]
  },
  {
   "cell_type": "code",
   "execution_count": 94,
   "metadata": {},
   "outputs": [
    {
     "data": {
      "text/plain": [
       "tensor([[  2.0000,   2.0000,   2.0000,   2.0000,   2.0000,   2.0000,   2.0000],\n",
       "        [  2.0000,  41.4784,   2.0000,   2.0000,   2.0000,   2.0000,   2.0000],\n",
       "        [  2.0000,   2.0000,  41.4784,   2.0000,   2.0000,   2.0000,   2.0000],\n",
       "        [  2.0000,   2.0000,   2.0000, 159.9137,   2.0000,   2.0000,   2.0000],\n",
       "        [  2.0000,   2.0000,   2.0000,   2.0000, 159.9137,   2.0000,   2.0000],\n",
       "        [  2.0000,   2.0000,   2.0000,   2.0000,   2.0000, 357.3058,   2.0000],\n",
       "        [  2.0000,   2.0000,   2.0000,   2.0000,   2.0000,   2.0000, 357.3058]])"
      ]
     },
     "execution_count": 94,
     "metadata": {},
     "output_type": "execute_result"
    }
   ],
   "source": [
    "basis_size=7\n",
    "g=2\n",
    "\n",
    "physical_H(basis_size,g)\n",
    "\n"
   ]
  },
  {
   "cell_type": "markdown",
   "metadata": {},
   "source": [
    "### Optimization"
   ]
  },
  {
   "cell_type": "code",
   "execution_count": 12,
   "metadata": {},
   "outputs": [],
   "source": [
    "def early_stop(errs, rel_tol, patience=2):\n",
    "    stop=True\n",
    "    for i in range(patience):\n",
    "        rel_change = np.abs((errs[-(i+1)] - errs[-(i+2)]) / errs[-(i+1)])\n",
    "        stop = stop and rel_change < rel_tol\n",
    "    return stop\n",
    "\n",
    "def optimize(n_iter, n_save, show_progress=True, stop_early=True, rel_tol=0.01, patience=2):\n",
    "    model.decoder.matmul.reset_parameters()\n",
    "    running_loss= 0\n",
    "    start_time = time()\n",
    "    \n",
    "    # store progress every n_save iters\n",
    "    j=0\n",
    "    its = []\n",
    "    errs = []\n",
    "    Hps = []\n",
    "    Ips = []\n",
    "    ts = []\n",
    "    \n",
    "    # iterate\n",
    "    for i in range(n_iter):\n",
    "        # zero the parameter gradients\n",
    "        optimizer.zero_grad()\n",
    "\n",
    "        # forward + backward + optimize\n",
    "        Hp, Ip = model()\n",
    "        loss = criterion(Hp, Ip)\n",
    "        loss.backward()\n",
    "        optimizer.step()\n",
    "\n",
    "        # print /save statistics\n",
    "        running_loss += loss.item()\n",
    "        if i % n_save == 0:\n",
    "            # save progress\n",
    "            its.append(i)\n",
    "            errs.append(running_loss)\n",
    "            Hps.append(Hp)\n",
    "            Ips.append(Ip)\n",
    "            ts.append(time() - start_time)\n",
    "            \n",
    "            # print progress \n",
    "            if show_progress:\n",
    "                change = errs[j]-errs[j-1] if j>0 else 0\n",
    "                print('[%d] loss: %.8f. diff: %.8f. time: %.4f' % (i + 1, running_loss / 10, change, ts[-1]))\n",
    "            \n",
    "            if j>=patience and stop_early and early_stop(errs, rel_tol, patience):\n",
    "                print(\"Early stopping criteria met.\")\n",
    "                break\n",
    "            \n",
    "            running_loss = 0.0\n",
    "            j+=1\n",
    "            \n",
    "\n",
    "    print('Finished Training')\n",
    "    return its, errs, Hps, Ips, ts"
   ]
  },
  {
   "cell_type": "code",
   "execution_count": 13,
   "metadata": {},
   "outputs": [
    {
     "name": "stdout",
     "output_type": "stream",
     "text": [
      "Early stopping criteria met.\n",
      "Finished Training\n"
     ]
    }
   ],
   "source": [
    "# Test\n",
    "n_iter=1000\n",
    "n_print=1\n",
    "its, errs, hps, ips, ts = optimize(n_iter, n_print, stop_early=True, rel_tol=0.001, patience=3, show_progress=False)"
   ]
  },
  {
   "cell_type": "code",
   "execution_count": 14,
   "metadata": {},
   "outputs": [],
   "source": [
    "# # hproj progress\n",
    "# vmax=eigs[:N_proj].abs().max()\n",
    "# vmin=0\n",
    "# for it, hp in zip(its,hps):\n",
    "#     Hplt = hp.cpu().detach().numpy()\n",
    "#     plt.imshow(np.abs(Hplt), origin=\"upper\", cmap='Spectral', interpolation=None, vmax=vmax, vmin=vmin)\n",
    "#     plt.title(\"iter: %i\" % (it+1))\n",
    "#     plt.colorbar()\n",
    "#     plt.show()"
   ]
  },
  {
   "cell_type": "markdown",
   "metadata": {},
   "source": [
    "### Make an animation"
   ]
  },
  {
   "cell_type": "code",
   "execution_count": 15,
   "metadata": {},
   "outputs": [
    {
     "name": "stderr",
     "output_type": "stream",
     "text": [
      "MovieWriter imagemagick unavailable; trying to use <class 'matplotlib.animation.PillowWriter'> instead.\n"
     ]
    },
    {
     "data": {
      "image/png": "[encoded data removed]",
      "text/plain": [
       "<Figure size 576x576 with 1 Axes>"
      ]
     },
     "metadata": {
      "needs_background": "light"
     },
     "output_type": "display_data"
    }
   ],
   "source": [
    "fig = plt.figure()\n",
    "fig.set_size_inches(8,8, True)\n",
    "ax = plt.axes()\n",
    "vmax=eigs[:N_proj].abs().max()\n",
    "vmin=0\n",
    "Hplt = hps[0].cpu().detach().numpy()\n",
    "mat = plt.imshow(np.abs(Hplt), origin=\"upper\", cmap='Spectral', interpolation=None, vmax=vmax, vmin=vmin)\n",
    "\n",
    "\n",
    "def init():\n",
    "    mat.set_data(hps[0].cpu().detach().numpy())\n",
    "    return mat,\n",
    "def animate(i):\n",
    "    hp = hps[i].cpu().detach().numpy()\n",
    "    mat.set_data(hp)\n",
    "    return mat,\n",
    "\n",
    "anim = FuncAnimation(fig, animate, init_func=init,\n",
    "                               frames=len(hps), interval=60, blit=True)\n",
    "\n",
    "\n",
    "anim.save('diagonalization.gif', writer='imagemagick')"
   ]
  }
 ],
 "metadata": {
  "kernelspec": {
   "display_name": "Python 3",
   "language": "python",
   "name": "python3"
  },
  "language_info": {
   "codemirror_mode": {
    "name": "ipython",
    "version": 3
   },
   "file_extension": ".py",
   "mimetype": "text/x-python",
   "name": "python",
   "nbconvert_exporter": "python",
   "pygments_lexer": "ipython3",
   "version": "3.6.8"
  }
 },
 "nbformat": 4,
 "nbformat_minor": 2
}
