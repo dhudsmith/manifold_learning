{
 "cells": [
  {
   "cell_type": "code",
   "execution_count": 1,
   "metadata": {},
   "outputs": [
    {
     "name": "stdout",
     "output_type": "stream",
     "text": [
      "Requirement already up-to-date: wandb in /opt/conda/lib/python3.6/site-packages (0.8.9)\n",
      "Requirement already satisfied, skipping upgrade: Click>=7.0 in /opt/conda/lib/python3.6/site-packages (from wandb) (7.0)\n",
      "Requirement already satisfied, skipping upgrade: gql>=0.1.0 in /opt/conda/lib/python3.6/site-packages (from wandb) (0.1.0)\n",
      "Requirement already satisfied, skipping upgrade: GitPython>=1.0.0 in /opt/conda/lib/python3.6/site-packages (from wandb) (3.0.2)\n",
      "Requirement already satisfied, skipping upgrade: psutil>=5.0.0 in /opt/conda/lib/python3.6/site-packages (from wandb) (5.6.2)\n",
      "Requirement already satisfied, skipping upgrade: shortuuid>=0.5.0 in /opt/conda/lib/python3.6/site-packages (from wandb) (0.5.0)\n",
      "Requirement already satisfied, skipping upgrade: watchdog>=0.8.3 in /opt/conda/lib/python3.6/site-packages (from wandb) (0.9.0)\n",
      "Requirement already satisfied, skipping upgrade: six>=1.10.0 in /opt/conda/lib/python3.6/site-packages (from wandb) (1.12.0)\n",
      "Requirement already satisfied, skipping upgrade: requests>=2.0.0 in /opt/conda/lib/python3.6/site-packages (from wandb) (2.21.0)\n",
      "Requirement already satisfied, skipping upgrade: python-dateutil>=2.6.1 in /opt/conda/lib/python3.6/site-packages (from wandb) (2.8.0)\n",
      "Requirement already satisfied, skipping upgrade: sentry-sdk>=0.4.0 in /opt/conda/lib/python3.6/site-packages (from wandb) (0.11.2)\n",
      "Requirement already satisfied, skipping upgrade: docker-pycreds>=0.4.0 in /opt/conda/lib/python3.6/site-packages (from wandb) (0.4.0)\n",
      "Requirement already satisfied, skipping upgrade: nvidia-ml-py3>=7.352.0 in /opt/conda/lib/python3.6/site-packages (from wandb) (7.352.0)\n",
      "Requirement already satisfied, skipping upgrade: subprocess32>=3.5.3 in /opt/conda/lib/python3.6/site-packages (from wandb) (3.5.4)\n",
      "Requirement already satisfied, skipping upgrade: promise>=0.4.0 in /opt/conda/lib/python3.6/site-packages (from gql>=0.1.0->wandb) (2.2.1)\n",
      "Requirement already satisfied, skipping upgrade: graphql-core>=0.5.0 in /opt/conda/lib/python3.6/site-packages (from gql>=0.1.0->wandb) (2.2.1)\n",
      "Requirement already satisfied, skipping upgrade: gitdb2>=2.0.0 in /opt/conda/lib/python3.6/site-packages (from GitPython>=1.0.0->wandb) (2.0.5)\n",
      "Requirement already satisfied, skipping upgrade: argh>=0.24.1 in /opt/conda/lib/python3.6/site-packages (from watchdog>=0.8.3->wandb) (0.26.2)\n",
      "Requirement already satisfied, skipping upgrade: PyYAML>=3.10 in /opt/conda/lib/python3.6/site-packages (from watchdog>=0.8.3->wandb) (5.1)\n",
      "Requirement already satisfied, skipping upgrade: pathtools>=0.1.1 in /opt/conda/lib/python3.6/site-packages (from watchdog>=0.8.3->wandb) (0.1.2)\n",
      "Requirement already satisfied, skipping upgrade: certifi>=2017.4.17 in /opt/conda/lib/python3.6/site-packages (from requests>=2.0.0->wandb) (2019.3.9)\n",
      "Requirement already satisfied, skipping upgrade: idna<2.9,>=2.5 in /opt/conda/lib/python3.6/site-packages (from requests>=2.0.0->wandb) (2.8)\n",
      "Requirement already satisfied, skipping upgrade: chardet<3.1.0,>=3.0.2 in /opt/conda/lib/python3.6/site-packages (from requests>=2.0.0->wandb) (3.0.4)\n",
      "Requirement already satisfied, skipping upgrade: urllib3<1.25,>=1.21.1 in /opt/conda/lib/python3.6/site-packages (from requests>=2.0.0->wandb) (1.24.2)\n",
      "Requirement already satisfied, skipping upgrade: rx<3,>=1.6 in /opt/conda/lib/python3.6/site-packages (from graphql-core>=0.5.0->gql>=0.1.0->wandb) (1.6.1)\n",
      "Requirement already satisfied, skipping upgrade: smmap2>=2.0.0 in /opt/conda/lib/python3.6/site-packages (from gitdb2>=2.0.0->GitPython>=1.0.0->wandb) (2.0.5)\n",
      "\u001b[34m\u001b[1mwandb\u001b[0m: Appending key for api.wandb.ai to your netrc file: /root/.netrc\n",
      "\u001b[32mSuccessfully logged in to Weights & Biases!\u001b[0m\n"
     ]
    }
   ],
   "source": [
    "!pip install --upgrade wandb\n",
    "!wandb login db0feaff82747014049595bbe7fa6495443366e6"
   ]
  },
  {
   "cell_type": "code",
   "execution_count": 2,
   "metadata": {},
   "outputs": [],
   "source": [
    "import torch\n",
    "from torch import nn\n",
    "import matplotlib.pyplot as plt\n",
    "from matplotlib.animation import FuncAnimation\n",
    "import numpy as np\n",
    "import hamiltonians as H\n",
    "import utils\n",
    "from scipy.linalg import eigh\n",
    "import wandb\n",
    "\n",
    "%matplotlib inline"
   ]
  },
  {
   "cell_type": "markdown",
   "metadata": {},
   "source": [
    "#### Setup"
   ]
  },
  {
   "cell_type": "code",
   "execution_count": 3,
   "metadata": {},
   "outputs": [
    {
     "name": "stdout",
     "output_type": "stream",
     "text": [
      "Device: cuda\n",
      "Data type: torch.float64\n"
     ]
    }
   ],
   "source": [
    "# use nvidia gpu if available\n",
    "if torch.cuda.is_available():\n",
    "    device = torch.device('cuda')\n",
    "else:\n",
    "    device = torch.device('cpu')\n",
    "    \n",
    "# only float32 tested\n",
    "dtype = torch.double\n",
    "    \n",
    "print(\"Device:\", device)\n",
    "print(\"Data type:\", dtype)"
   ]
  },
  {
   "cell_type": "markdown",
   "metadata": {},
   "source": [
    "#### setup problem"
   ]
  },
  {
   "cell_type": "code",
   "execution_count": 4,
   "metadata": {},
   "outputs": [],
   "source": [
    "# Hamiltonian Setup\n",
    "N=4000\n",
    "N_proj=20\n",
    "g=100\n",
    "alpha=30\n",
    "lr=0.1"
   ]
  },
  {
   "cell_type": "code",
   "execution_count": 5,
   "metadata": {},
   "outputs": [
    {
     "name": "stdout",
     "output_type": "stream",
     "text": [
      "CPU times: user 1.91 s, sys: 905 ms, total: 2.81 s\n",
      "Wall time: 2.81 s\n"
     ]
    }
   ],
   "source": [
    "%time Hgen = H.H_ring_2particles(N, g, device, dtype)"
   ]
  },
  {
   "cell_type": "code",
   "execution_count": 6,
   "metadata": {},
   "outputs": [
    {
     "data": {
      "text/plain": [
       "Hamiltonian(\n",
       "  (decoder): Sequential(\n",
       "    (matmul): Linear(in_features=20, out_features=4000, bias=False)\n",
       "    (normalize): L2Norm()\n",
       "  )\n",
       ")"
      ]
     },
     "execution_count": 6,
     "metadata": {},
     "output_type": "execute_result"
    }
   ],
   "source": [
    "# the hamiltonian model\n",
    "model = utils.Hamiltonian(Hgen, N, N_proj).type(dtype).to(device)\n",
    "model.train()"
   ]
  },
  {
   "cell_type": "markdown",
   "metadata": {},
   "source": [
    "### Setup WandB logging"
   ]
  },
  {
   "cell_type": "code",
   "execution_count": 7,
   "metadata": {},
   "outputs": [],
   "source": [
    "args = {\n",
    "    \"device\": device.type, \n",
    "    \"dtype\": str(dtype),\n",
    "    \"N\": N,\n",
    "    \"N_proj\": N_proj,\n",
    "    \"g\": g,\n",
    "    \"alpha\": alpha,\n",
    "    \"lr\": lr\n",
    "}"
   ]
  },
  {
   "cell_type": "code",
   "execution_count": 8,
   "metadata": {},
   "outputs": [
    {
     "data": {
      "text/html": [
       "\n",
       "        Notebook configured with <a href=\"https://wandb.com\" target=\"_blank\">W&B</a>. You can <a href=\"https://app.wandb.ai/dhudsmith/manifold-learning/runs/c38qaide?apiKey=db0feaff82747014049595bbe7fa6495443366e6\" target=\"_blank\">open</a> the run page, or call <code>%%wandb</code>\n",
       "        in a cell containing your training loop to display live results.  Learn more in our <a href=\"https://docs.wandb.com/docs/integrations/jupyter.html\" target=\"_blank\">docs</a>.\n",
       "    "
      ],
      "text/plain": [
       "<IPython.core.display.HTML object>"
      ]
     },
     "metadata": {},
     "output_type": "display_data"
    },
    {
     "data": {
      "text/plain": [
       "[<wandb.wandb_torch.TorchGraph at 0x7fb0092c6978>]"
      ]
     },
     "execution_count": 8,
     "metadata": {},
     "output_type": "execute_result"
    }
   ],
   "source": [
    "wandb.init(project=\"manifold-learning\", config=args)\n",
    "wandb.watch(model)"
   ]
  },
  {
   "cell_type": "code",
   "execution_count": 9,
   "metadata": {},
   "outputs": [],
   "source": [
    "# a function for logging in the optimization loop\n",
    "def wandb_log(loss, loss_h, loss_i,step):\n",
    "    wandb.log({\n",
    "        'running_loss': loss,\n",
    "        'running_loss_hamil': loss_h,\n",
    "        'running_loss_ident': loss_i\n",
    "    },\n",
    "    step=step)"
   ]
  },
  {
   "cell_type": "markdown",
   "metadata": {},
   "source": [
    "### solve"
   ]
  },
  {
   "cell_type": "code",
   "execution_count": 10,
   "metadata": {},
   "outputs": [],
   "source": [
    "# loss function and optimizer\n",
    "criterion = utils.Cost(N_proj, alpha).type(dtype).to(device)\n",
    "optimizer = utils.optim.Rprop(model.parameters(), lr=lr)"
   ]
  },
  {
   "cell_type": "code",
   "execution_count": 11,
   "metadata": {},
   "outputs": [
    {
     "name": "stdout",
     "output_type": "stream",
     "text": [
      "[50] loss: 189867685092.23211670 (189867685092.196899/0.035243). diff: 0.00000000. time: 1.5948\n",
      "[100] loss: 0.29507610 (0.262744/0.032332). diff: -9493384254596.85156250. time: 1.7304\n",
      "[150] loss: 0.23446687 (0.233144/0.001323). diff: -3.03046168. time: 1.8658\n",
      "[200] loss: 0.22790410 (0.227897/0.000007). diff: -0.32813831. time: 2.0035\n",
      "[250] loss: 0.22784999 (0.227849/0.000001). diff: -0.00270540. time: 2.1350\n",
      "[300] loss: 0.22784192 (0.227842/0.000000). diff: -0.00040386. time: 2.2701\n",
      "[350] loss: 0.22783800 (0.227838/0.000000). diff: -0.00019592. time: 2.4099\n",
      "[400] loss: 0.22783550 (0.227835/0.000000). diff: -0.00012467. time: 2.5438\n",
      "[450] loss: 0.22783394 (0.227834/0.000000). diff: -0.00007830. time: 2.6805\n",
      "[500] loss: 0.22783284 (0.227833/0.000000). diff: -0.00005506. time: 2.8213\n",
      "[550] loss: 0.22783191 (0.227832/0.000000). diff: -0.00004653. time: 2.9541\n",
      "[600] loss: 0.22783120 (0.227831/0.000000). diff: -0.00003527. time: 3.0862\n",
      "[650] loss: 0.22783062 (0.227831/0.000000). diff: -0.00002888. time: 3.2212\n",
      "[700] loss: 0.22783009 (0.227830/0.000000). diff: -0.00002666. time: 3.3529\n",
      "[750] loss: 0.22782958 (0.227830/0.000000). diff: -0.00002562. time: 3.5067\n",
      "[800] loss: 0.22782904 (0.227829/0.000000). diff: -0.00002708. time: 3.6430\n",
      "[850] loss: 0.22782835 (0.227828/0.000000). diff: -0.00003403. time: 3.7801\n",
      "[900] loss: 0.22782754 (0.227827/0.000000). diff: -0.00004096. time: 3.9159\n",
      "[950] loss: 0.22782651 (0.227826/0.000000). diff: -0.00005141. time: 4.0522\n",
      "[1000] loss: 0.22782529 (0.227825/0.000000). diff: -0.00006083. time: 4.1883\n",
      "[1050] loss: 0.22782386 (0.227824/0.000000). diff: -0.00007160. time: 4.3234\n",
      "[1100] loss: 0.22782223 (0.227822/0.000000). diff: -0.00008149. time: 4.4601\n",
      "[1150] loss: 0.22782032 (0.227820/0.000000). diff: -0.00009567. time: 4.6042\n",
      "[1200] loss: 0.22781891 (0.227819/0.000000). diff: -0.00007040. time: 4.7357\n",
      "[1250] loss: 0.22781751 (0.227817/0.000000). diff: -0.00006999. time: 4.8700\n",
      "[1300] loss: 0.22781641 (0.227816/0.000000). diff: -0.00005513. time: 5.0047\n",
      "[1350] loss: 0.22781561 (0.227816/0.000000). diff: -0.00003982. time: 5.1366\n",
      "[1400] loss: 0.22781506 (0.227815/0.000000). diff: -0.00002758. time: 5.2692\n",
      "[1450] loss: 0.22781464 (0.227815/0.000000). diff: -0.00002073. time: 5.4070\n",
      "[1500] loss: 0.22781432 (0.227814/0.000000). diff: -0.00001633. time: 5.5625\n",
      "[1550] loss: 0.22781410 (0.227814/0.000000). diff: -0.00001058. time: 5.7166\n",
      "[1600] loss: 0.22781397 (0.227814/0.000000). diff: -0.00000688. time: 5.8651\n",
      "[1650] loss: 0.22781388 (0.227814/0.000000). diff: -0.00000453. time: 6.0057\n",
      "Early stopping criteria met.\n",
      "Finished Training\n"
     ]
    }
   ],
   "source": [
    "# optimization\n",
    "n_iter=8000\n",
    "n_print=50\n",
    "its, errs, hps, ips, ts = utils.optimize(model, optimizer, criterion, n_iter, n_print, wandb_log, stop_early=True, rel_tol=0.000001, patience=3, show_progress=True)"
   ]
  },
  {
   "cell_type": "code",
   "execution_count": null,
   "metadata": {},
   "outputs": [],
   "source": [
    "%time eigs_t = torch.symeig(Hgen.type(torch.float64), eigenvectors=False).eigenvalues[:N_proj].cpu().numpy()\n",
    "eigs_t"
   ]
  },
  {
   "cell_type": "code",
   "execution_count": null,
   "metadata": {},
   "outputs": [],
   "source": [
    "%time eigs_sp = eigh(Hgen.type(torch.float64).cpu().numpy())[0][:N_proj]\n",
    "eigs_sp"
   ]
  },
  {
   "cell_type": "code",
   "execution_count": null,
   "metadata": {},
   "outputs": [],
   "source": [
    "eigs_approx = eigh(hps[-1].cpu().detach().numpy())[0][:N_proj]\n",
    "eigs_approx"
   ]
  },
  {
   "cell_type": "code",
   "execution_count": null,
   "metadata": {},
   "outputs": [],
   "source": [
    "utils.plot_rel_err(eigs_sp, eigs_approx)\n",
    "utils.plot_rel_err(eigs_t, eigs_approx)"
   ]
  },
  {
   "cell_type": "code",
   "execution_count": 19,
   "metadata": {},
   "outputs": [
    {
     "data": {
      "text/plain": [
       "torch.Size([20, 4000])"
      ]
     },
     "execution_count": 19,
     "metadata": {},
     "output_type": "execute_result"
    }
   ],
   "source": [
    "vecs = model.eval().decoder(model.eye).detach().cpu()\n",
    "vecs.shape"
   ]
  },
  {
   "cell_type": "code",
   "execution_count": 20,
   "metadata": {},
   "outputs": [
    {
     "data": {
      "text/plain": [
       "tensor(1.0000, dtype=torch.float64)"
      ]
     },
     "execution_count": 20,
     "metadata": {},
     "output_type": "execute_result"
    }
   ],
   "source": [
    "(vecs[0,:]**2).sum()"
   ]
  },
  {
   "cell_type": "code",
   "execution_count": 21,
   "metadata": {},
   "outputs": [
    {
     "data": {
      "text/plain": [
       "<matplotlib.legend.Legend at 0x7fdfbabafda0>"
      ]
     },
     "execution_count": 21,
     "metadata": {},
     "output_type": "execute_result"
    },
    {
     "data": {
      "image/png": "[encoded data removed]",
      "text/plain": [
       "<Figure size 432x288 with 1 Axes>"
      ]
     },
     "metadata": {
      "needs_background": "light"
     },
     "output_type": "display_data"
    }
   ],
   "source": [
    "for i in range(0,20):\n",
    "    plt.plot(vecs[i,:N_proj]**2,'o-',label=i);\n",
    "plt.legend()"
   ]
  },
  {
   "cell_type": "code",
   "execution_count": null,
   "metadata": {},
   "outputs": [],
   "source": [
    "# # hproj progress\n",
    "# vmax=np.max(eigs_sp)\n",
    "# vmin=0\n",
    "# for it, hp in zip(its,hps):\n",
    "#     Hplt = hp.cpu().detach().numpy()\n",
    "#     plt.imshow(np.abs(Hplt), origin=\"upper\", cmap='Spectral', interpolation=None, vmax=vmax, vmin=vmin)\n",
    "#     plt.title(\"iter: %i\" % (it+1))\n",
    "#     plt.colorbar()\n",
    "#     plt.show()"
   ]
  },
  {
   "cell_type": "markdown",
   "metadata": {},
   "source": [
    "#### Animation"
   ]
  },
  {
   "cell_type": "code",
   "execution_count": 19,
   "metadata": {},
   "outputs": [
    {
     "name": "stdout",
     "output_type": "stream",
     "text": [
      "Finished Training\n"
     ]
    }
   ],
   "source": [
    "n_iter=500\n",
    "n_print=1\n",
    "its, errs, hps, ips, ts = utils.optimize(model, optimizer, criterion, n_iter, n_print, stop_early=False, rel_tol=0.01, patience=3, show_progress=False)"
   ]
  },
  {
   "cell_type": "code",
   "execution_count": 20,
   "metadata": {},
   "outputs": [
    {
     "name": "stderr",
     "output_type": "stream",
     "text": [
      "MovieWriter imagemagick unavailable; trying to use <class 'matplotlib.animation.PillowWriter'> instead.\n"
     ]
    },
    {
     "data": {
      "image/png": "[encoded data removed]",
      "text/plain": [
       "<Figure size 576x576 with 1 Axes>"
      ]
     },
     "metadata": {
      "needs_background": "light"
     },
     "output_type": "display_data"
    }
   ],
   "source": [
    "fig = plt.figure()\n",
    "fig.set_size_inches(8,8, True)\n",
    "ax = plt.axes()\n",
    "vmax=np.max(eigs_sp)\n",
    "vmin=0\n",
    "Hplt = hps[0].cpu().detach().numpy()\n",
    "mat = plt.imshow(np.abs(Hplt), origin=\"upper\", cmap='Spectral', interpolation=None, vmax=vmax, vmin=vmin)\n",
    "\n",
    "\n",
    "def init():\n",
    "    mat.set_data(hps[0].cpu().detach().numpy())\n",
    "    return mat,\n",
    "def animate(i):\n",
    "    hp = hps[i].cpu().detach().numpy()\n",
    "    mat.set_data(hp)\n",
    "    return mat,\n",
    "\n",
    "anim = FuncAnimation(fig, animate, init_func=init,\n",
    "                               frames=len(hps), interval=90, blit=True)\n",
    "\n",
    "anim.save('diagonalization_H_ring_2particles.gif', writer='imagemagick')"
   ]
  },
  {
   "cell_type": "markdown",
   "metadata": {},
   "source": [
    "#### Timing"
   ]
  },
  {
   "cell_type": "code",
   "execution_count": 40,
   "metadata": {},
   "outputs": [
    {
     "data": {
      "text/plain": [
       "device(type='cuda')"
      ]
     },
     "execution_count": 40,
     "metadata": {},
     "output_type": "execute_result"
    }
   ],
   "source": [
    "# use cpu for timing due to massive gpu parallelization\n",
    "# device = torch.device('cpu')\n",
    "device"
   ]
  },
  {
   "cell_type": "code",
   "execution_count": 53,
   "metadata": {},
   "outputs": [],
   "source": [
    "Ns = np.logspace(3.333245,4.114,7).astype(int)\n",
    "N_proj = 20\n",
    "repeats = 7\n",
    "alpha=20\n",
    "max_iter = 10000\n",
    "n_print = 200\n",
    "rel_tol = 0.0001\n",
    "criterion = utils.Cost(N_proj, alpha).type(dtype).to(device)"
   ]
  },
  {
   "cell_type": "code",
   "execution_count": 54,
   "metadata": {},
   "outputs": [
    {
     "data": {
      "text/plain": [
       "array([ 2153,  2906,  3921,  5292,  7140,  9635, 13001])"
      ]
     },
     "execution_count": 54,
     "metadata": {},
     "output_type": "execute_result"
    }
   ],
   "source": [
    "Ns"
   ]
  },
  {
   "cell_type": "code",
   "execution_count": 55,
   "metadata": {},
   "outputs": [
    {
     "name": "stdout",
     "output_type": "stream",
     "text": [
      "N=2153. Nproj=20. repeat=1\n",
      "Early stopping criteria met.\n",
      "Finished Training\n",
      "N=2153. Nproj=20. repeat=2\n",
      "Early stopping criteria met.\n",
      "Finished Training\n",
      "N=2153. Nproj=20. repeat=3\n",
      "Early stopping criteria met.\n",
      "Finished Training\n",
      "N=2153. Nproj=20. repeat=4\n",
      "Early stopping criteria met.\n",
      "Finished Training\n",
      "N=2153. Nproj=20. repeat=5\n",
      "Early stopping criteria met.\n",
      "Finished Training\n",
      "N=2153. Nproj=20. repeat=6\n",
      "Early stopping criteria met.\n",
      "Finished Training\n",
      "N=2153. Nproj=20. repeat=7\n",
      "Early stopping criteria met.\n",
      "Finished Training\n",
      "N=2906. Nproj=20. repeat=1\n",
      "Early stopping criteria met.\n",
      "Finished Training\n",
      "N=2906. Nproj=20. repeat=2\n",
      "Early stopping criteria met.\n",
      "Finished Training\n",
      "N=2906. Nproj=20. repeat=3\n",
      "Early stopping criteria met.\n",
      "Finished Training\n",
      "N=2906. Nproj=20. repeat=4\n",
      "Early stopping criteria met.\n",
      "Finished Training\n",
      "N=2906. Nproj=20. repeat=5\n",
      "Early stopping criteria met.\n",
      "Finished Training\n",
      "N=2906. Nproj=20. repeat=6\n",
      "Early stopping criteria met.\n",
      "Finished Training\n",
      "N=2906. Nproj=20. repeat=7\n",
      "Early stopping criteria met.\n",
      "Finished Training\n",
      "N=3921. Nproj=20. repeat=1\n",
      "Early stopping criteria met.\n",
      "Finished Training\n",
      "N=3921. Nproj=20. repeat=2\n",
      "Early stopping criteria met.\n",
      "Finished Training\n",
      "N=3921. Nproj=20. repeat=3\n",
      "Early stopping criteria met.\n",
      "Finished Training\n",
      "N=3921. Nproj=20. repeat=4\n",
      "Early stopping criteria met.\n",
      "Finished Training\n",
      "N=3921. Nproj=20. repeat=5\n",
      "Early stopping criteria met.\n",
      "Finished Training\n",
      "N=3921. Nproj=20. repeat=6\n",
      "Early stopping criteria met.\n",
      "Finished Training\n",
      "N=3921. Nproj=20. repeat=7\n",
      "Early stopping criteria met.\n",
      "Finished Training\n",
      "N=5292. Nproj=20. repeat=1\n",
      "Early stopping criteria met.\n",
      "Finished Training\n",
      "N=5292. Nproj=20. repeat=2\n",
      "Early stopping criteria met.\n",
      "Finished Training\n",
      "N=5292. Nproj=20. repeat=3\n",
      "Early stopping criteria met.\n",
      "Finished Training\n",
      "N=5292. Nproj=20. repeat=4\n",
      "Early stopping criteria met.\n",
      "Finished Training\n",
      "N=5292. Nproj=20. repeat=5\n",
      "Early stopping criteria met.\n",
      "Finished Training\n",
      "N=5292. Nproj=20. repeat=6\n",
      "Early stopping criteria met.\n",
      "Finished Training\n",
      "N=5292. Nproj=20. repeat=7\n",
      "Early stopping criteria met.\n",
      "Finished Training\n",
      "N=7140. Nproj=20. repeat=1\n",
      "Early stopping criteria met.\n",
      "Finished Training\n",
      "N=7140. Nproj=20. repeat=2\n",
      "Early stopping criteria met.\n",
      "Finished Training\n",
      "N=7140. Nproj=20. repeat=3\n",
      "Early stopping criteria met.\n",
      "Finished Training\n",
      "N=7140. Nproj=20. repeat=4\n",
      "Early stopping criteria met.\n",
      "Finished Training\n",
      "N=7140. Nproj=20. repeat=5\n",
      "Early stopping criteria met.\n",
      "Finished Training\n",
      "N=7140. Nproj=20. repeat=6\n",
      "Early stopping criteria met.\n",
      "Finished Training\n",
      "N=7140. Nproj=20. repeat=7\n",
      "Early stopping criteria met.\n",
      "Finished Training\n",
      "N=9635. Nproj=20. repeat=1\n",
      "Early stopping criteria met.\n",
      "Finished Training\n",
      "N=9635. Nproj=20. repeat=2\n",
      "Early stopping criteria met.\n",
      "Finished Training\n",
      "N=9635. Nproj=20. repeat=3\n",
      "Early stopping criteria met.\n",
      "Finished Training\n",
      "N=9635. Nproj=20. repeat=4\n",
      "Early stopping criteria met.\n",
      "Finished Training\n",
      "N=9635. Nproj=20. repeat=5\n",
      "Early stopping criteria met.\n",
      "Finished Training\n",
      "N=9635. Nproj=20. repeat=6\n",
      "Early stopping criteria met.\n",
      "Finished Training\n",
      "N=9635. Nproj=20. repeat=7\n",
      "Early stopping criteria met.\n",
      "Finished Training\n",
      "N=13001. Nproj=20. repeat=1\n",
      "Early stopping criteria met.\n",
      "Finished Training\n",
      "N=13001. Nproj=20. repeat=2\n",
      "Early stopping criteria met.\n",
      "Finished Training\n",
      "N=13001. Nproj=20. repeat=3\n",
      "Early stopping criteria met.\n",
      "Finished Training\n",
      "N=13001. Nproj=20. repeat=4\n",
      "Early stopping criteria met.\n",
      "Finished Training\n",
      "N=13001. Nproj=20. repeat=5\n",
      "Early stopping criteria met.\n",
      "Finished Training\n",
      "N=13001. Nproj=20. repeat=6\n",
      "Early stopping criteria met.\n",
      "Finished Training\n",
      "N=13001. Nproj=20. repeat=7\n",
      "Early stopping criteria met.\n",
      "Finished Training\n"
     ]
    }
   ],
   "source": [
    "average_time = []\n",
    "stddev_time = []\n",
    "average_err = []\n",
    "stddev_err = []\n",
    "for N in Ns:\n",
    "    t = []\n",
    "    err = []\n",
    "    for r in range(repeats):\n",
    "        print(\"N=%i. Nproj=%i. repeat=%i\" % (N, N_proj, r+1))\n",
    "        Hgen = H.H_ring_2particles(N, g, device, dtype)\n",
    "        model = utils.Hamiltonian(Hgen, N, N_proj).type(dtype).to(device)\n",
    "        optimizer = utils.optim.Rprop(model.parameters(), lr=0.1)\n",
    "        \n",
    "        _, errs, _, _, ts = utils.optimize(model, optimizer, criterion, max_iter, n_print, show_progress=False, stop_early=True, rel_tol=rel_tol, patience=3)\n",
    "\n",
    "        t.append(ts[-1])\n",
    "        err.append(errs[-1])\n",
    "        \n",
    "    average_time.append(np.average(t))\n",
    "    stddev_time.append(np.std(t))\n",
    "    average_err.append(np.average(err))\n",
    "    stddev_err.append(np.std(err))"
   ]
  },
  {
   "cell_type": "code",
   "execution_count": 56,
   "metadata": {},
   "outputs": [],
   "source": [
    "average_time= np.asarray(average_time)\n",
    "stddev_time = np.asarray(stddev_time)\n",
    "average_err= np.asarray(average_err)\n",
    "stddev_err = np.asarray(stddev_err)"
   ]
  },
  {
   "cell_type": "code",
   "execution_count": 57,
   "metadata": {},
   "outputs": [
    {
     "data": {
      "image/png": "[encoded data removed]",
      "text/plain": [
       "<Figure size 432x288 with 1 Axes>"
      ]
     },
     "metadata": {
      "needs_background": "light"
     },
     "output_type": "display_data"
    }
   ],
   "source": [
    "plt.loglog(Ns, average_time, 'bo-')\n",
    "plt.fill_between(Ns, average_time-stddev_time, average_time+stddev_time, alpha=0.2)\n",
    "plt.grid()"
   ]
  },
  {
   "cell_type": "code",
   "execution_count": 58,
   "metadata": {},
   "outputs": [
    {
     "data": {
      "image/png": "[encoded data removed]",
      "text/plain": [
       "<Figure size 432x288 with 1 Axes>"
      ]
     },
     "metadata": {
      "needs_background": "light"
     },
     "output_type": "display_data"
    }
   ],
   "source": [
    "plt.loglog(Ns, average_err, 'bo-')\n",
    "plt.fill_between(Ns, average_err-stddev_err, average_err+stddev_err, alpha=0.2)\n",
    "plt.grid()"
   ]
  },
  {
   "cell_type": "code",
   "execution_count": 1,
   "metadata": {},
   "outputs": [
    {
     "ename": "NameError",
     "evalue": "name 'np' is not defined",
     "output_type": "error",
     "traceback": [
      "\u001b[0;31m---------------------------------------------------------------------------\u001b[0m",
      "\u001b[0;31mNameError\u001b[0m                                 Traceback (most recent call last)",
      "\u001b[0;32m<ipython-input-1-5dd88e4fcb42>\u001b[0m in \u001b[0;36m<module>\u001b[0;34m\u001b[0m\n\u001b[0;32m----> 1\u001b[0;31m \u001b[0mnp\u001b[0m\u001b[0;34m.\u001b[0m\u001b[0mpolyfit\u001b[0m\u001b[0;34m(\u001b[0m\u001b[0mnp\u001b[0m\u001b[0;34m.\u001b[0m\u001b[0mlog\u001b[0m\u001b[0;34m(\u001b[0m\u001b[0mNs\u001b[0m\u001b[0;34m[\u001b[0m\u001b[0;34m-\u001b[0m\u001b[0;36m4\u001b[0m\u001b[0;34m:\u001b[0m\u001b[0;34m]\u001b[0m\u001b[0;34m)\u001b[0m\u001b[0;34m,\u001b[0m \u001b[0mnp\u001b[0m\u001b[0;34m.\u001b[0m\u001b[0mlog\u001b[0m\u001b[0;34m(\u001b[0m\u001b[0maverage_time\u001b[0m\u001b[0;34m[\u001b[0m\u001b[0;34m-\u001b[0m\u001b[0;36m4\u001b[0m\u001b[0;34m:\u001b[0m\u001b[0;34m]\u001b[0m\u001b[0;34m)\u001b[0m\u001b[0;34m,\u001b[0m \u001b[0;36m1\u001b[0m\u001b[0;34m)\u001b[0m\u001b[0;34m\u001b[0m\u001b[0;34m\u001b[0m\u001b[0m\n\u001b[0m",
      "\u001b[0;31mNameError\u001b[0m: name 'np' is not defined"
     ]
    }
   ],
   "source": [
    "np.polyfit(np.log(Ns[-4:]), np.log(average_time[-4:]), 1)"
   ]
  },
  {
   "cell_type": "code",
   "execution_count": null,
   "metadata": {},
   "outputs": [],
   "source": []
  }
 ],
 "metadata": {
  "kernelspec": {
   "display_name": "Python 3",
   "language": "python",
   "name": "python3"
  },
  "language_info": {
   "codemirror_mode": {
    "name": "ipython",
    "version": 3
   },
   "file_extension": ".py",
   "mimetype": "text/x-python",
   "name": "python",
   "nbconvert_exporter": "python",
   "pygments_lexer": "ipython3",
   "version": "3.6.8"
  }
 },
 "nbformat": 4,
 "nbformat_minor": 2
}
