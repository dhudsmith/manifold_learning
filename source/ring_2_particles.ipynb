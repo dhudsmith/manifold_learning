{
 "cells": [
  {
   "cell_type": "code",
   "execution_count": 1,
   "metadata": {},
   "outputs": [],
   "source": [
    "import torch\n",
    "from torch import nn\n",
    "import matplotlib.pyplot as plt\n",
    "from matplotlib.animation import FuncAnimation\n",
    "import numpy as np\n",
    "import hamiltonians as H\n",
    "import utils\n",
    "from scipy.linalg import eigh\n",
    "\n",
    "%matplotlib inline"
   ]
  },
  {
   "cell_type": "markdown",
   "metadata": {},
   "source": [
    "#### Setup"
   ]
  },
  {
   "cell_type": "code",
   "execution_count": 21,
   "metadata": {},
   "outputs": [
    {
     "name": "stdout",
     "output_type": "stream",
     "text": [
      "Device: cuda\n",
      "Data type: torch.float64\n"
     ]
    }
   ],
   "source": [
    "# use nvidia gpu if available\n",
    "if torch.cuda.is_available():\n",
    "    device = torch.device('cuda')\n",
    "else:\n",
    "    device = torch.device('cpu')\n",
    "    \n",
    "# only float32 tested\n",
    "dtype = torch.double\n",
    "    \n",
    "print(\"Device:\", device)\n",
    "print(\"Data type:\", dtype)"
   ]
  },
  {
   "cell_type": "markdown",
   "metadata": {},
   "source": [
    "#### build hamiltonian"
   ]
  },
  {
   "cell_type": "code",
   "execution_count": 22,
   "metadata": {},
   "outputs": [],
   "source": [
    "# Hamiltonian Setup\n",
    "N=1000\n",
    "N_proj=20\n",
    "g = 1\n",
    "alpha=20"
   ]
  },
  {
   "cell_type": "code",
   "execution_count": 4,
   "metadata": {},
   "outputs": [
    {
     "name": "stdout",
     "output_type": "stream",
     "text": [
      "CPU times: user 1.38 s, sys: 570 ms, total: 1.95 s\n",
      "Wall time: 1.95 s\n"
     ]
    }
   ],
   "source": [
    "%time Hgen = H.H_ring_2particles(N, g, device, dtype)"
   ]
  },
  {
   "cell_type": "markdown",
   "metadata": {},
   "source": [
    "#### Get eigenvalues"
   ]
  },
  {
   "cell_type": "code",
   "execution_count": 5,
   "metadata": {},
   "outputs": [
    {
     "name": "stdout",
     "output_type": "stream",
     "text": [
      "CPU times: user 1.08 s, sys: 283 ms, total: 1.36 s\n",
      "Wall time: 837 ms\n",
      "[9.22048700e-01 3.94784176e+01 4.14505793e+01 1.57913670e+02\n",
      " 1.59906583e+02 3.55305758e+02 3.57302697e+02 6.31654682e+02\n",
      " 6.33653043e+02 9.86960440e+02 9.88959463e+02 1.42122303e+03\n",
      " 1.42322242e+03 1.93444246e+03 1.93644206e+03 2.52661873e+03\n",
      " 2.52861847e+03 3.19775183e+03 3.19975166e+03 3.94784176e+03]\n"
     ]
    }
   ],
   "source": [
    "%time eigs_t = torch.symeig(Hgen.type(torch.float64), eigenvectors=False).eigenvalues[:N_proj].cpu().numpy()\n",
    "print(eigs_t)"
   ]
  },
  {
   "cell_type": "code",
   "execution_count": 6,
   "metadata": {},
   "outputs": [
    {
     "name": "stdout",
     "output_type": "stream",
     "text": [
      "CPU times: user 2.54 s, sys: 10.8 ms, total: 2.55 s\n",
      "Wall time: 257 ms\n",
      "[9.22048700e-01 3.94784176e+01 4.14505793e+01 1.57913670e+02\n",
      " 1.59906583e+02 3.55305758e+02 3.57302697e+02 6.31654682e+02\n",
      " 6.33653043e+02 9.86960440e+02 9.88959463e+02 1.42122303e+03\n",
      " 1.42322242e+03 1.93444246e+03 1.93644206e+03 2.52661873e+03\n",
      " 2.52861847e+03 3.19775183e+03 3.19975166e+03 3.94784176e+03]\n"
     ]
    }
   ],
   "source": [
    "%time eigs_sp = eigh(Hgen.type(torch.float64).cpu().numpy())[0][:N_proj]\n",
    "print(eigs_sp)"
   ]
  },
  {
   "cell_type": "code",
   "execution_count": 7,
   "metadata": {},
   "outputs": [],
   "source": [
    "# the hamiltonian model\n",
    "model = utils.Hamiltonian(Hgen, N, N_proj).type(dtype)\n",
    "model.to(device);"
   ]
  },
  {
   "cell_type": "code",
   "execution_count": 8,
   "metadata": {},
   "outputs": [
    {
     "name": "stdout",
     "output_type": "stream",
     "text": [
      "torch.cuda.DoubleTensor\n"
     ]
    }
   ],
   "source": [
    "print(model.eye.type())"
   ]
  },
  {
   "cell_type": "code",
   "execution_count": 9,
   "metadata": {},
   "outputs": [],
   "source": [
    "# loss function and optimizer\n",
    "criterion = utils.Cost(N_proj, alpha).type(dtype).to(device)\n",
    "optimizer = utils.optim.Rprop(model.parameters(), lr=0.1)"
   ]
  },
  {
   "cell_type": "code",
   "execution_count": 10,
   "metadata": {},
   "outputs": [
    {
     "name": "stdout",
     "output_type": "stream",
     "text": [
      "[1] loss: 2537535463.36545372. diff: 0.00000000. time: 0.0084\n",
      "[501] loss: 893802779.05254078. diff: -16437326843.12912941. time: 1.0909\n",
      "[1001] loss: 0.97603111. diff: -8938027780.76509666. time: 2.3354\n",
      "[1501] loss: 0.97589842. diff: -0.00132694. time: 3.4944\n",
      "[2001] loss: 0.97586845. diff: -0.00029968. time: 4.6508\n",
      "[2501] loss: 0.97584470. diff: -0.00023748. time: 5.7954\n",
      "[3001] loss: 0.97582967. diff: -0.00015037. time: 6.9463\n",
      "[3501] loss: 0.97582312. diff: -0.00006551. time: 8.0938\n",
      "[4001] loss: 0.97582062. diff: -0.00002494. time: 9.2359\n",
      "[4501] loss: 0.97581963. diff: -0.00000992. time: 10.3957\n",
      "[5001] loss: 0.97581910. diff: -0.00000527. time: 11.5461\n",
      "[5501] loss: 0.97581872. diff: -0.00000382. time: 12.6948\n",
      "[6001] loss: 0.97581842. diff: -0.00000300. time: 13.8455\n",
      "[6501] loss: 0.97581820. diff: -0.00000222. time: 14.9981\n",
      "[7001] loss: 0.97581802. diff: -0.00000181. time: 16.1463\n",
      "[7501] loss: 0.97581787. diff: -0.00000145. time: 17.2933\n",
      "[8001] loss: 0.97581774. diff: -0.00000129. time: 18.4385\n",
      "[8501] loss: 0.97581762. diff: -0.00000120. time: 19.5918\n",
      "[9001] loss: 0.97581752. diff: -0.00000108. time: 20.7434\n",
      "[9501] loss: 0.97581742. diff: -0.00000099. time: 21.8937\n",
      "[10001] loss: 0.97581732. diff: -0.00000092. time: 23.0372\n",
      "[10501] loss: 0.97581724. diff: -0.00000080. time: 24.1833\n",
      "[11001] loss: 0.97581717. diff: -0.00000076. time: 25.3234\n",
      "[11501] loss: 0.97581710. diff: -0.00000072. time: 26.4439\n",
      "[12001] loss: 0.97581703. diff: -0.00000068. time: 27.5665\n",
      "[12501] loss: 0.97581697. diff: -0.00000061. time: 28.6875\n",
      "[13001] loss: 0.97581691. diff: -0.00000059. time: 29.8245\n",
      "[13501] loss: 0.97581685. diff: -0.00000055. time: 30.9450\n",
      "[14001] loss: 0.97581680. diff: -0.00000055. time: 32.0675\n",
      "[14501] loss: 0.97581675. diff: -0.00000051. time: 33.1861\n",
      "[15001] loss: 0.97581670. diff: -0.00000048. time: 34.3043\n",
      "[15501] loss: 0.97581665. diff: -0.00000045. time: 35.4027\n",
      "[16001] loss: 0.97581661. diff: -0.00000044. time: 36.4546\n",
      "[16501] loss: 0.97581657. diff: -0.00000044. time: 37.5067\n",
      "[17001] loss: 0.97581652. diff: -0.00000042. time: 38.5573\n",
      "[17501] loss: 0.97581648. diff: -0.00000039. time: 39.6064\n",
      "[18001] loss: 0.97581645. diff: -0.00000037. time: 40.6706\n",
      "[18501] loss: 0.97581641. diff: -0.00000037. time: 41.7067\n",
      "[19001] loss: 0.97581638. diff: -0.00000033. time: 42.7083\n",
      "[19501] loss: 0.97581634. diff: -0.00000033. time: 43.7083\n",
      "Finished Training\n"
     ]
    }
   ],
   "source": [
    "# optimization\n",
    "n_iter=20000\n",
    "n_print=500\n",
    "its, errs, hps, ips, ts = utils.optimize(model, optimizer, criterion, n_iter, n_print, stop_early=False, rel_tol=0.000001, patience=3, show_progress=True)"
   ]
  },
  {
   "cell_type": "code",
   "execution_count": 11,
   "metadata": {},
   "outputs": [
    {
     "data": {
      "text/plain": [
       "array([9.22048700e-01, 3.94784176e+01, 4.14505793e+01, 1.57913670e+02,\n",
       "       1.59906583e+02, 3.55305758e+02, 3.57302697e+02, 6.31654682e+02,\n",
       "       6.33653043e+02, 9.86960440e+02, 9.88959463e+02, 1.42122303e+03,\n",
       "       1.42322242e+03, 1.93444246e+03, 1.93644206e+03, 2.52661873e+03,\n",
       "       2.52861847e+03, 3.19775183e+03, 3.19975166e+03, 3.94784176e+03])"
      ]
     },
     "execution_count": 11,
     "metadata": {},
     "output_type": "execute_result"
    }
   ],
   "source": [
    "eigs_sp"
   ]
  },
  {
   "cell_type": "code",
   "execution_count": 12,
   "metadata": {},
   "outputs": [
    {
     "data": {
      "text/plain": [
       "array([9.22048700e-01, 3.94784176e+01, 4.14505793e+01, 1.57913670e+02,\n",
       "       1.59906583e+02, 3.55305758e+02, 3.57302697e+02, 6.31654682e+02,\n",
       "       6.33653043e+02, 9.86960440e+02, 9.88959463e+02, 1.42122303e+03,\n",
       "       1.42322242e+03, 1.93444246e+03, 1.93644206e+03, 2.52661873e+03,\n",
       "       2.52861847e+03, 3.19775183e+03, 3.19975166e+03, 3.94784176e+03])"
      ]
     },
     "execution_count": 12,
     "metadata": {},
     "output_type": "execute_result"
    }
   ],
   "source": [
    "eigs_t"
   ]
  },
  {
   "cell_type": "code",
   "execution_count": 13,
   "metadata": {},
   "outputs": [
    {
     "data": {
      "text/plain": [
       "array([9.22048703e-01, 3.94784176e+01, 4.14505793e+01, 1.57913670e+02,\n",
       "       1.59906583e+02, 3.55305759e+02, 3.57302697e+02, 6.31657507e+02,\n",
       "       6.33650209e+02, 9.87015528e+02, 9.88904262e+02, 1.42126310e+03,\n",
       "       1.42318229e+03, 1.93448189e+03, 1.93640259e+03, 2.52665083e+03,\n",
       "       2.52858634e+03, 3.19777335e+03, 3.19973013e+03, 3.94784176e+03])"
      ]
     },
     "execution_count": 13,
     "metadata": {},
     "output_type": "execute_result"
    }
   ],
   "source": [
    "eigs_approx = eigh(hps[-1].cpu().detach().numpy())[0][:N_proj]\n",
    "eigs_approx"
   ]
  },
  {
   "cell_type": "code",
   "execution_count": 14,
   "metadata": {},
   "outputs": [],
   "source": [
    "def plot_rel_err(eigs, eigs_approx):\n",
    "    plt.plot((eigs_approx - eigs)/eigs, 'o-')\n",
    "    plt.hlines(0, 0, N_proj, linestyles='dashed')\n",
    "    plt.xlabel = 'excitation number'\n",
    "    plt.ylabel = 'error'"
   ]
  },
  {
   "cell_type": "code",
   "execution_count": 15,
   "metadata": {},
   "outputs": [
    {
     "data": {
      "image/png": "[encoded data removed]",
      "text/plain": [
       "<Figure size 432x288 with 1 Axes>"
      ]
     },
     "metadata": {
      "needs_background": "light"
     },
     "output_type": "display_data"
    }
   ],
   "source": [
    "plot_rel_err(eigs_sp, eigs_approx)"
   ]
  },
  {
   "cell_type": "code",
   "execution_count": 16,
   "metadata": {},
   "outputs": [
    {
     "data": {
      "image/png": "[encoded data removed]",
      "text/plain": [
       "<Figure size 432x288 with 1 Axes>"
      ]
     },
     "metadata": {
      "needs_background": "light"
     },
     "output_type": "display_data"
    }
   ],
   "source": [
    "plot_rel_err(eigs_t, eigs_approx)"
   ]
  },
  {
   "cell_type": "code",
   "execution_count": 18,
   "metadata": {},
   "outputs": [],
   "source": [
    "# # hproj progress\n",
    "# vmax=np.max(eigs_sp)\n",
    "# vmin=0\n",
    "# for it, hp in zip(its,hps):\n",
    "#     Hplt = hp.cpu().detach().numpy()\n",
    "#     plt.imshow(np.abs(Hplt), origin=\"upper\", cmap='Spectral', interpolation=None, vmax=vmax, vmin=vmin)\n",
    "#     plt.title(\"iter: %i\" % (it+1))\n",
    "#     plt.colorbar()\n",
    "#     plt.show()"
   ]
  },
  {
   "cell_type": "markdown",
   "metadata": {},
   "source": [
    "#### Animation"
   ]
  },
  {
   "cell_type": "code",
   "execution_count": 19,
   "metadata": {},
   "outputs": [
    {
     "name": "stdout",
     "output_type": "stream",
     "text": [
      "Finished Training\n"
     ]
    }
   ],
   "source": [
    "n_iter=500\n",
    "n_print=1\n",
    "its, errs, hps, ips, ts = utils.optimize(model, optimizer, criterion, n_iter, n_print, stop_early=False, rel_tol=0.01, patience=3, show_progress=False)"
   ]
  },
  {
   "cell_type": "code",
   "execution_count": 20,
   "metadata": {},
   "outputs": [
    {
     "name": "stderr",
     "output_type": "stream",
     "text": [
      "MovieWriter imagemagick unavailable; trying to use <class 'matplotlib.animation.PillowWriter'> instead.\n"
     ]
    },
    {
     "data": {
      "image/png": "[encoded data removed]",
      "text/plain": [
       "<Figure size 576x576 with 1 Axes>"
      ]
     },
     "metadata": {
      "needs_background": "light"
     },
     "output_type": "display_data"
    }
   ],
   "source": [
    "fig = plt.figure()\n",
    "fig.set_size_inches(8,8, True)\n",
    "ax = plt.axes()\n",
    "vmax=np.max(eigs_sp)\n",
    "vmin=0\n",
    "Hplt = hps[0].cpu().detach().numpy()\n",
    "mat = plt.imshow(np.abs(Hplt), origin=\"upper\", cmap='Spectral', interpolation=None, vmax=vmax, vmin=vmin)\n",
    "\n",
    "\n",
    "def init():\n",
    "    mat.set_data(hps[0].cpu().detach().numpy())\n",
    "    return mat,\n",
    "def animate(i):\n",
    "    hp = hps[i].cpu().detach().numpy()\n",
    "    mat.set_data(hp)\n",
    "    return mat,\n",
    "\n",
    "anim = FuncAnimation(fig, animate, init_func=init,\n",
    "                               frames=len(hps), interval=90, blit=True)\n",
    "\n",
    "anim.save('diagonalization_H_ring_2particles.gif', writer='imagemagick')"
   ]
  },
  {
   "cell_type": "code",
   "execution_count": null,
   "metadata": {},
   "outputs": [],
   "source": []
  }
 ],
 "metadata": {
  "kernelspec": {
   "display_name": "Python 3",
   "language": "python",
   "name": "python3"
  },
  "language_info": {
   "codemirror_mode": {
    "name": "ipython",
    "version": 3
   },
   "file_extension": ".py",
   "mimetype": "text/x-python",
   "name": "python",
   "nbconvert_exporter": "python",
   "pygments_lexer": "ipython3",
   "version": "3.6.8"
  }
 },
 "nbformat": 4,
 "nbformat_minor": 2
}
