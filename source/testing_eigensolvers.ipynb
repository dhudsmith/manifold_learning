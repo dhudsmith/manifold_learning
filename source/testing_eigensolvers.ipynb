{
 "cells": [
  {
   "cell_type": "code",
   "execution_count": 1,
   "metadata": {},
   "outputs": [],
   "source": [
    "import torch\n",
    "from torch import nn\n",
    "import matplotlib.pyplot as plt\n",
    "from matplotlib.animation import FuncAnimation\n",
    "import numpy as np\n",
    "import hamiltonians as H\n",
    "import utils\n",
    "from scipy.linalg import eigh\n",
    "\n",
    "%matplotlib inline"
   ]
  },
  {
   "cell_type": "markdown",
   "metadata": {},
   "source": [
    "### Setup"
   ]
  },
  {
   "cell_type": "code",
   "execution_count": 2,
   "metadata": {},
   "outputs": [
    {
     "name": "stdout",
     "output_type": "stream",
     "text": [
      "Device: cuda\n",
      "Data type: torch.float64\n"
     ]
    }
   ],
   "source": [
    "# use nvidia gpu if available\n",
    "if torch.cuda.is_available():\n",
    "    device = torch.device('cuda')\n",
    "else:\n",
    "    device = torch.device('cpu')\n",
    "    \n",
    "# only float32 tested\n",
    "dtype = torch.float64\n",
    "    \n",
    "print(\"Device:\", device)\n",
    "print(\"Data type:\", dtype)"
   ]
  },
  {
   "cell_type": "markdown",
   "metadata": {},
   "source": [
    "### Ring w/ 2 particles"
   ]
  },
  {
   "cell_type": "code",
   "execution_count": 3,
   "metadata": {},
   "outputs": [],
   "source": [
    "# Hamiltonian Setup\n",
    "N=5000\n",
    "N_proj=20\n",
    "g = 1\n",
    "alpha=15"
   ]
  },
  {
   "cell_type": "code",
   "execution_count": 4,
   "metadata": {},
   "outputs": [
    {
     "name": "stdout",
     "output_type": "stream",
     "text": [
      "CPU times: user 1.64 s, sys: 963 ms, total: 2.61 s\n",
      "Wall time: 2.24 s\n"
     ]
    }
   ],
   "source": [
    "%time Hgen = H.H_ring_2particles(N, g).type(torch.float64)"
   ]
  },
  {
   "cell_type": "code",
   "execution_count": 5,
   "metadata": {},
   "outputs": [
    {
     "name": "stdout",
     "output_type": "stream",
     "text": [
      "CPU times: user 1min 10s, sys: 2.07 s, total: 1min 12s\n",
      "Wall time: 4.76 s\n",
      "[9.21979889e-01 3.94784165e+01 4.14504207e+01 1.57913666e+02\n",
      " 1.59906418e+02 3.55305756e+02 3.57302532e+02 6.31654663e+02\n",
      " 6.33652863e+02 9.86960449e+02 9.88959310e+02 1.42122302e+03\n",
      " 1.42322224e+03 1.93444250e+03 1.93644194e+03 2.52661865e+03\n",
      " 2.52861823e+03 3.19775171e+03 3.19975138e+03 3.94784180e+03]\n"
     ]
    }
   ],
   "source": [
    "%time eigs_t = torch.symeig(Hgen, eigenvectors=False).eigenvalues[:N_proj].cpu().numpy()\n",
    "print(eigs_t)"
   ]
  },
  {
   "cell_type": "code",
   "execution_count": 6,
   "metadata": {},
   "outputs": [
    {
     "name": "stdout",
     "output_type": "stream",
     "text": [
      "CPU times: user 1min 44s, sys: 2.21 s, total: 1min 47s\n",
      "Wall time: 9.76 s\n",
      "[9.21979876e-01 3.94784164e+01 4.14504207e+01 1.57913666e+02\n",
      " 1.59906418e+02 3.55305756e+02 3.57302532e+02 6.31654663e+02\n",
      " 6.33652863e+02 9.86960449e+02 9.88959310e+02 1.42122302e+03\n",
      " 1.42322224e+03 1.93444250e+03 1.93644194e+03 2.52661865e+03\n",
      " 2.52861823e+03 3.19775171e+03 3.19975138e+03 3.94784180e+03]\n"
     ]
    }
   ],
   "source": [
    "%time eigs_sp = eigh(Hgen.cpu().numpy())[0][:N_proj]\n",
    "print(eigs_sp)"
   ]
  },
  {
   "cell_type": "markdown",
   "metadata": {},
   "source": [
    "### Ground state energy as function of basis size"
   ]
  },
  {
   "cell_type": "code",
   "execution_count": 7,
   "metadata": {},
   "outputs": [
    {
     "data": {
      "text/plain": [
       "array([    1,     2,     3,     4,     5,     6,     7,     9,    11,\n",
       "          13,    16,    20,    24,    29,    35,    42,    51,    62,\n",
       "          75,    91,   109,   132,   159,   193,   232,   281,   339,\n",
       "         409,   494,   596,   719,   868,  1048,  1264,  1526,  1842,\n",
       "        2222,  2682,  3237,  3906,  4714,  5689,  6866,  8286, 10000])"
      ]
     },
     "execution_count": 7,
     "metadata": {},
     "output_type": "execute_result"
    }
   ],
   "source": [
    "Ns = np.unique(np.logspace(0,4,50).astype(int))\n",
    "Ns"
   ]
  },
  {
   "cell_type": "code",
   "execution_count": 9,
   "metadata": {},
   "outputs": [
    {
     "name": "stdout",
     "output_type": "stream",
     "text": [
      "Diagonalizing ring hamiltonian. basis_size=1, g=1.00\n",
      "Diagonalizing ring hamiltonian. basis_size=2, g=1.00\n",
      "Diagonalizing ring hamiltonian. basis_size=3, g=1.00\n",
      "Diagonalizing ring hamiltonian. basis_size=4, g=1.00\n",
      "Diagonalizing ring hamiltonian. basis_size=5, g=1.00\n",
      "Diagonalizing ring hamiltonian. basis_size=6, g=1.00\n",
      "Diagonalizing ring hamiltonian. basis_size=7, g=1.00\n",
      "Diagonalizing ring hamiltonian. basis_size=9, g=1.00\n",
      "Diagonalizing ring hamiltonian. basis_size=11, g=1.00\n",
      "Diagonalizing ring hamiltonian. basis_size=13, g=1.00\n",
      "Diagonalizing ring hamiltonian. basis_size=16, g=1.00\n",
      "Diagonalizing ring hamiltonian. basis_size=20, g=1.00\n",
      "Diagonalizing ring hamiltonian. basis_size=24, g=1.00\n",
      "Diagonalizing ring hamiltonian. basis_size=29, g=1.00\n",
      "Diagonalizing ring hamiltonian. basis_size=35, g=1.00\n",
      "Diagonalizing ring hamiltonian. basis_size=42, g=1.00\n",
      "Diagonalizing ring hamiltonian. basis_size=51, g=1.00\n",
      "Diagonalizing ring hamiltonian. basis_size=62, g=1.00\n",
      "Diagonalizing ring hamiltonian. basis_size=75, g=1.00\n",
      "Diagonalizing ring hamiltonian. basis_size=91, g=1.00\n",
      "Diagonalizing ring hamiltonian. basis_size=109, g=1.00\n",
      "Diagonalizing ring hamiltonian. basis_size=132, g=1.00\n",
      "Diagonalizing ring hamiltonian. basis_size=159, g=1.00\n",
      "Diagonalizing ring hamiltonian. basis_size=193, g=1.00\n",
      "Diagonalizing ring hamiltonian. basis_size=232, g=1.00\n",
      "Diagonalizing ring hamiltonian. basis_size=281, g=1.00\n",
      "Diagonalizing ring hamiltonian. basis_size=339, g=1.00\n",
      "Diagonalizing ring hamiltonian. basis_size=409, g=1.00\n",
      "Diagonalizing ring hamiltonian. basis_size=494, g=1.00\n",
      "Diagonalizing ring hamiltonian. basis_size=596, g=1.00\n",
      "Diagonalizing ring hamiltonian. basis_size=719, g=1.00\n",
      "Diagonalizing ring hamiltonian. basis_size=868, g=1.00\n",
      "Diagonalizing ring hamiltonian. basis_size=1048, g=1.00\n",
      "Diagonalizing ring hamiltonian. basis_size=1264, g=1.00\n",
      "Diagonalizing ring hamiltonian. basis_size=1526, g=1.00\n",
      "Diagonalizing ring hamiltonian. basis_size=1842, g=1.00\n",
      "Diagonalizing ring hamiltonian. basis_size=2222, g=1.00\n",
      "Diagonalizing ring hamiltonian. basis_size=2682, g=1.00\n",
      "Diagonalizing ring hamiltonian. basis_size=3237, g=1.00\n",
      "Diagonalizing ring hamiltonian. basis_size=3906, g=1.00\n",
      "Diagonalizing ring hamiltonian. basis_size=4714, g=1.00\n",
      "Diagonalizing ring hamiltonian. basis_size=5689, g=1.00\n",
      "Diagonalizing ring hamiltonian. basis_size=6866, g=1.00\n",
      "Diagonalizing ring hamiltonian. basis_size=8286, g=1.00\n",
      "Diagonalizing ring hamiltonian. basis_size=10000, g=1.00\n"
     ]
    }
   ],
   "source": [
    "E0s32 = []\n",
    "E0s64 = []\n",
    "g=1\n",
    "for N in Ns:\n",
    "    print(\"Diagonalizing ring hamiltonian. basis_size=%i, g=%0.2f\" % (N,g))\n",
    "    h32 = H.H_ring_2particles(N, g)\n",
    "    h64 = h32.type(torch.float64)\n",
    "    \n",
    "    e032 = torch.symeig(h32, eigenvectors=False).eigenvalues[0].cpu().numpy()\n",
    "    e064 = torch.symeig(h64, eigenvectors=False).eigenvalues[0].cpu().numpy()\n",
    "    \n",
    "    E0s32.append(e032)\n",
    "    E0s64.append(e064)"
   ]
  },
  {
   "cell_type": "code",
   "execution_count": 11,
   "metadata": {},
   "outputs": [
    {
     "data": {
      "image/png": "[encoded data removed]",
      "text/plain": [
       "<Figure size 432x288 with 1 Axes>"
      ]
     },
     "metadata": {
      "needs_background": "light"
     },
     "output_type": "display_data"
    }
   ],
   "source": [
    "plt.semilogx(Ns, E0s32, 'o-', label='32bit precision')\n",
    "plt.semilogx(Ns, E0s64, 'o--', label='64bit precision')\n",
    "plt.xlabel(\"basis size\")\n",
    "plt.ylabel('ground state energy')\n",
    "plt.title('torch.symeig: 32bit vs 64bit precision')\n",
    "plt.ylim(0.8,1.1);"
   ]
  },
  {
   "cell_type": "code",
   "execution_count": null,
   "metadata": {},
   "outputs": [],
   "source": []
  }
 ],
 "metadata": {
  "kernelspec": {
   "display_name": "Python 3",
   "language": "python",
   "name": "python3"
  },
  "language_info": {
   "codemirror_mode": {
    "name": "ipython",
    "version": 3
   },
   "file_extension": ".py",
   "mimetype": "text/x-python",
   "name": "python",
   "nbconvert_exporter": "python",
   "pygments_lexer": "ipython3",
   "version": "3.6.8"
  }
 },
 "nbformat": 4,
 "nbformat_minor": 2
}
