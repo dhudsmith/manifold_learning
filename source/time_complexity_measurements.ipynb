{
 "cells": [
  {
   "cell_type": "code",
   "execution_count": 19,
   "metadata": {},
   "outputs": [],
   "source": [
    "import torch\n",
    "from torch import nn\n",
    "from torch.autograd import Variable\n",
    "import torch.optim as optim\n",
    "from collections import OrderedDict\n",
    "from scipy.stats import ortho_group\n",
    "import matplotlib.pyplot as plt\n",
    "from matplotlib.animation import FuncAnimation\n",
    "import numpy as np\n",
    "from time import time\n",
    "%matplotlib inline"
   ]
  },
  {
   "cell_type": "markdown",
   "metadata": {},
   "source": [
    "### Setup"
   ]
  },
  {
   "cell_type": "code",
   "execution_count": 20,
   "metadata": {},
   "outputs": [
    {
     "name": "stdout",
     "output_type": "stream",
     "text": [
      "Device: cuda\n",
      "Data type: torch.float32\n"
     ]
    }
   ],
   "source": [
    "# use nvidia gpu if available\n",
    "if torch.cuda.is_available():\n",
    "    device = torch.device('cuda')\n",
    "else:\n",
    "    device = torch.device('cpu')\n",
    "    \n",
    "# only float32 tested\n",
    "dtype = torch.float32\n",
    "    \n",
    "print(\"Device:\", device)\n",
    "print(\"Data type:\", dtype)"
   ]
  },
  {
   "cell_type": "markdown",
   "metadata": {},
   "source": [
    "### Define Encoder/Decoder Logic"
   ]
  },
  {
   "cell_type": "code",
   "execution_count": 21,
   "metadata": {},
   "outputs": [],
   "source": [
    "class L2Norm(nn.Module):\n",
    "    \"\"\"L2Norm model class -- a layer class for normalizing a matrix of vectors\n",
    "    \n",
    "    Args:\n",
    "        dim (int) - which dimension to normalize along. 0 for column vectors, 1 for row vectors\n",
    "    \"\"\"\n",
    "    def __init__(self, dim=1):\n",
    "        super(L2Norm, self).__init__()\n",
    "        \n",
    "        self.dim=dim\n",
    "        \n",
    "    def forward(self,input):\n",
    "        return nn.functional.normalize(input, p=2, dim=self.dim)"
   ]
  },
  {
   "cell_type": "code",
   "execution_count": 45,
   "metadata": {},
   "outputs": [],
   "source": [
    "class Hamiltonian(nn.Module):\n",
    "    \"\"\"Hamiltonian -- a class used to help learn physically relevant sub-manifold\n",
    "    \n",
    "    Args:\n",
    "        H - the hamiltonian matrix in the original basis\n",
    "        N (int) - the size of the original basis\n",
    "        N_proj (int) - the size of the projected basis\n",
    "    \"\"\"\n",
    "    \n",
    "    def __init__(self, H, N, N_proj):\n",
    "\n",
    "        super(Hamiltonian, self).__init__()\n",
    "        \n",
    "        # initialize the class variables\n",
    "        self.H = H\n",
    "        self.N = N\n",
    "        self.N_proj = N_proj\n",
    "        self.eye = torch.eye(N_proj, device=device, dtype=dtype)\n",
    "        \n",
    "        # initialize the encoder and decoder architectures\n",
    "        self.decoder = nn.Sequential(OrderedDict([('matmul', nn.Linear(self.N_proj, self.N, bias=False)),\n",
    "                                                  ('normalize', L2Norm())\n",
    "                                                  ]))\n",
    "\n",
    "    # return the current cost matrix\n",
    "    def forward(self):\n",
    "        M = self.decoder(self.eye)\n",
    "        return M @ self.H @ M.t(), M @ M.t()"
   ]
  },
  {
   "cell_type": "code",
   "execution_count": 46,
   "metadata": {},
   "outputs": [],
   "source": [
    "class Cost():\n",
    "    \"\"\"Cost class -- used to calculate goodness of projection map for optimization purposes\n",
    "    \n",
    "    Args:\n",
    "        N_proj - number of basis states in the projected space\n",
    "        alpha (float) - the weight of the orthogonality cost relative to the energy cost (units of energy)\n",
    "    \"\"\"\n",
    "    \n",
    "    def __init__(self, N_proj, alpha):\n",
    "        super(Cost, self).__init__()\n",
    "        \n",
    "        self.N_proj = N_proj\n",
    "        self.eye = torch.eye(N_proj, device=device, dtype=dtype)\n",
    "        self.sorter = torch.tensor([[1/(i+1)/(j+1) for i in range(self.N_proj)] for j in range(self.N_proj)], device=device, dtype=dtype)\n",
    "        \n",
    "    def __call__(self, Hproj, Iproj):\n",
    "        cost_matrix = (Hproj*self.sorter)**2 + alpha * (Iproj - self.eye)**2\n",
    "        return cost_matrix.sum()/self.N_proj**2"
   ]
  },
  {
   "cell_type": "markdown",
   "metadata": {},
   "source": [
    "### Synthesize a reasonable test Hamiltonian"
   ]
  },
  {
   "cell_type": "code",
   "execution_count": 47,
   "metadata": {},
   "outputs": [],
   "source": [
    "def generate_H(N, N_proj):\n",
    "    eigs,_ = (torch.rand(N, device=device, dtype=dtype)*N).sort()\n",
    "    Hgen_proj = torch.diag(eigs)\n",
    "    Wgen = torch.tensor(ortho_group.rvs(N), device=device, dtype=dtype)\n",
    "    \n",
    "    Hgen = Wgen @ Hgen_proj @ Wgen.t()\n",
    "    \n",
    "    return Hgen, Wgen, eigs"
   ]
  },
  {
   "cell_type": "markdown",
   "metadata": {},
   "source": [
    "### Optimization"
   ]
  },
  {
   "cell_type": "code",
   "execution_count": 43,
   "metadata": {},
   "outputs": [],
   "source": [
    "def early_stop(errs, rel_tol, patience=2):\n",
    "    stop=True\n",
    "    for i in range(patience):\n",
    "        rel_change = np.abs((errs[-(i+1)] - errs[-(i+2)]) / errs[-(i+1)])\n",
    "        stop = stop and rel_change < rel_tol\n",
    "    return stop\n",
    "\n",
    "def optimize(n_iter, n_save, show_progress=True, stop_early=True, rel_tol=0.01, patience=2):\n",
    "    model.decoder.matmul.reset_parameters()\n",
    "    running_loss= 0\n",
    "    start_time = time()\n",
    "    \n",
    "    # store progress every n_save iters\n",
    "    j=0\n",
    "    its = []\n",
    "    errs = []\n",
    "    Hps = []\n",
    "    Ips = []\n",
    "    ts = []\n",
    "    \n",
    "    # iterate\n",
    "    for i in range(n_iter):\n",
    "        # zero the parameter gradients\n",
    "        optimizer.zero_grad()\n",
    "\n",
    "        # forward + backward + optimize\n",
    "        Hp, Ip = model()\n",
    "        loss = criterion(Hp, Ip)\n",
    "        loss.backward()\n",
    "        optimizer.step()\n",
    "\n",
    "        # print /save statistics\n",
    "        running_loss += loss.item()\n",
    "        if i % n_save == 0:\n",
    "            # save progress\n",
    "            its.append(i)\n",
    "            errs.append(running_loss)\n",
    "            Hps.append(Hp)\n",
    "            Ips.append(Ip)\n",
    "            ts.append(time() - start_time)\n",
    "            \n",
    "            # print progress \n",
    "            if show_progress:\n",
    "                change = errs[j]-errs[j-1] if j>0 else 0\n",
    "                print('[%d] loss: %.8f. diff: %.8f. time: %.4f' % (i + 1, running_loss / 10, change, ts[-1]))\n",
    "            \n",
    "            if j>=patience and stop_early and early_stop(errs, rel_tol, patience):\n",
    "                print(\"Early stopping criteria met.\")\n",
    "                break\n",
    "            \n",
    "            running_loss = 0.0\n",
    "            j+=1\n",
    "            \n",
    "\n",
    "    print('Finished Training')\n",
    "    return its, errs, Hps, Ips, ts"
   ]
  },
  {
   "cell_type": "markdown",
   "metadata": {},
   "source": [
    "### Time Complexity Measurements"
   ]
  },
  {
   "cell_type": "markdown",
   "metadata": {},
   "source": [
    "#### Scaling w/ N"
   ]
  },
  {
   "cell_type": "code",
   "execution_count": 19,
   "metadata": {},
   "outputs": [],
   "source": [
    "# use cpu for timing due to massive gpu parallelization\n",
    "device = torch.device('cpu')"
   ]
  },
  {
   "cell_type": "code",
   "execution_count": 20,
   "metadata": {},
   "outputs": [],
   "source": [
    "Ns = np.logspace(2,3.2,5).astype(int)\n",
    "N_proj = 10\n",
    "repeats = 10\n",
    "lam=1\n",
    "max_iter = 10000\n",
    "n_print = 200\n",
    "criterion = Cost(N_proj, alpha)"
   ]
  },
  {
   "cell_type": "code",
   "execution_count": null,
   "metadata": {},
   "outputs": [
    {
     "name": "stdout",
     "output_type": "stream",
     "text": [
      "N=100. Nproj=10. repeat=1\n",
      "Early stopping criteria met.\n",
      "Finished Training\n",
      "N=100. Nproj=10. repeat=2\n",
      "Early stopping criteria met.\n",
      "Finished Training\n",
      "N=100. Nproj=10. repeat=3\n",
      "Early stopping criteria met.\n",
      "Finished Training\n",
      "N=100. Nproj=10. repeat=4\n",
      "Early stopping criteria met.\n",
      "Finished Training\n",
      "N=100. Nproj=10. repeat=5\n",
      "Early stopping criteria met.\n",
      "Finished Training\n",
      "N=100. Nproj=10. repeat=6\n",
      "Early stopping criteria met.\n",
      "Finished Training\n",
      "N=100. Nproj=10. repeat=7\n",
      "Early stopping criteria met.\n",
      "Finished Training\n",
      "N=100. Nproj=10. repeat=8\n",
      "Early stopping criteria met.\n",
      "Finished Training\n",
      "N=100. Nproj=10. repeat=9\n",
      "Early stopping criteria met.\n",
      "Finished Training\n",
      "N=100. Nproj=10. repeat=10\n",
      "Early stopping criteria met.\n",
      "Finished Training\n",
      "N=199. Nproj=10. repeat=1\n",
      "Early stopping criteria met.\n",
      "Finished Training\n",
      "N=199. Nproj=10. repeat=2\n",
      "Early stopping criteria met.\n",
      "Finished Training\n",
      "N=199. Nproj=10. repeat=3\n",
      "Early stopping criteria met.\n",
      "Finished Training\n",
      "N=199. Nproj=10. repeat=4\n",
      "Early stopping criteria met.\n",
      "Finished Training\n",
      "N=199. Nproj=10. repeat=5\n",
      "Early stopping criteria met.\n",
      "Finished Training\n",
      "N=199. Nproj=10. repeat=6\n",
      "Early stopping criteria met.\n",
      "Finished Training\n",
      "N=199. Nproj=10. repeat=7\n",
      "Early stopping criteria met.\n",
      "Finished Training\n",
      "N=199. Nproj=10. repeat=8\n",
      "Early stopping criteria met.\n",
      "Finished Training\n",
      "N=199. Nproj=10. repeat=9\n",
      "Early stopping criteria met.\n",
      "Finished Training\n",
      "N=199. Nproj=10. repeat=10\n",
      "Early stopping criteria met.\n",
      "Finished Training\n",
      "N=398. Nproj=10. repeat=1\n",
      "Early stopping criteria met.\n",
      "Finished Training\n",
      "N=398. Nproj=10. repeat=2\n",
      "Early stopping criteria met.\n",
      "Finished Training\n",
      "N=398. Nproj=10. repeat=3\n",
      "Early stopping criteria met.\n",
      "Finished Training\n",
      "N=398. Nproj=10. repeat=4\n",
      "Early stopping criteria met.\n",
      "Finished Training\n",
      "N=398. Nproj=10. repeat=5\n",
      "Early stopping criteria met.\n",
      "Finished Training\n",
      "N=398. Nproj=10. repeat=6\n",
      "Early stopping criteria met.\n",
      "Finished Training\n",
      "N=398. Nproj=10. repeat=7\n",
      "Early stopping criteria met.\n",
      "Finished Training\n",
      "N=398. Nproj=10. repeat=8\n",
      "Early stopping criteria met.\n",
      "Finished Training\n",
      "N=398. Nproj=10. repeat=9\n",
      "Early stopping criteria met.\n",
      "Finished Training\n",
      "N=398. Nproj=10. repeat=10\n",
      "Early stopping criteria met.\n",
      "Finished Training\n",
      "N=794. Nproj=10. repeat=1\n",
      "Early stopping criteria met.\n",
      "Finished Training\n",
      "N=794. Nproj=10. repeat=2\n",
      "Early stopping criteria met.\n",
      "Finished Training\n",
      "N=794. Nproj=10. repeat=3\n",
      "Early stopping criteria met.\n",
      "Finished Training\n",
      "N=794. Nproj=10. repeat=4\n",
      "Early stopping criteria met.\n",
      "Finished Training\n",
      "N=794. Nproj=10. repeat=5\n",
      "Early stopping criteria met.\n",
      "Finished Training\n",
      "N=794. Nproj=10. repeat=6\n",
      "Early stopping criteria met.\n",
      "Finished Training\n",
      "N=794. Nproj=10. repeat=7\n",
      "Early stopping criteria met.\n",
      "Finished Training\n",
      "N=794. Nproj=10. repeat=8\n",
      "Early stopping criteria met.\n",
      "Finished Training\n",
      "N=794. Nproj=10. repeat=9\n",
      "Early stopping criteria met.\n",
      "Finished Training\n",
      "N=794. Nproj=10. repeat=10\n",
      "Early stopping criteria met.\n",
      "Finished Training\n",
      "N=1584. Nproj=10. repeat=1\n",
      "Early stopping criteria met.\n",
      "Finished Training\n",
      "N=1584. Nproj=10. repeat=2\n",
      "Early stopping criteria met.\n",
      "Finished Training\n",
      "N=1584. Nproj=10. repeat=3\n",
      "Early stopping criteria met.\n",
      "Finished Training\n",
      "N=1584. Nproj=10. repeat=4\n"
     ]
    }
   ],
   "source": [
    "average_time = []\n",
    "stddev_time = []\n",
    "for N in Ns:\n",
    "    t = []\n",
    "    for r in range(repeats):\n",
    "        print(\"N=%i. Nproj=%i. repeat=%i\" % (N, N_proj, r+1))\n",
    "        H, _, _ = generate_H(N, N_proj)\n",
    "        model = Hamiltonian(H, N, N_proj).to(device=device)\n",
    "        optimizer = optim.Rprop(model.parameters(), lr=0.1)\n",
    "\n",
    "        _, _, _, _, ts = optimize(max_iter, n_print, show_progress=False, stop_early=True, rel_tol=0.01, patience=3)\n",
    "\n",
    "        t.append(ts[-1])\n",
    "        \n",
    "    average_time.append(np.average(t))\n",
    "    stddev_time.append(np.std(t))"
   ]
  },
  {
   "cell_type": "code",
   "execution_count": null,
   "metadata": {},
   "outputs": [],
   "source": [
    "plt.loglog(Ns, average_time, 'bo-')\n",
    "plt.grid()"
   ]
  },
  {
   "cell_type": "code",
   "execution_count": null,
   "metadata": {},
   "outputs": [],
   "source": [
    "np.polyfit(np.log(Ns), np.log(average_time), 1)"
   ]
  },
  {
   "cell_type": "markdown",
   "metadata": {},
   "source": [
    "$t \\sim \\mathcal{O}\\left(N^{0.83}\\right) $"
   ]
  },
  {
   "cell_type": "code",
   "execution_count": null,
   "metadata": {},
   "outputs": [],
   "source": []
  }
 ],
 "metadata": {
  "kernelspec": {
   "display_name": "Python 3",
   "language": "python",
   "name": "python3"
  },
  "language_info": {
   "codemirror_mode": {
    "name": "ipython",
    "version": 3
   },
   "file_extension": ".py",
   "mimetype": "text/x-python",
   "name": "python",
   "nbconvert_exporter": "python",
   "pygments_lexer": "ipython3",
   "version": "3.6.8"
  }
 },
 "nbformat": 4,
 "nbformat_minor": 2
}
